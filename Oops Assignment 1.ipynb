{
 "cells": [
  {
   "cell_type": "markdown",
   "id": "9596b490-d5c3-4d22-9b47-993a46d592a9",
   "metadata": {},
   "source": [
    "Problem 1: Bank Account Create a class representing a bank account with attributes like account number, account holder name, and balance. Implement methods to deposit and withdraw money from the account."
   ]
  },
  {
   "cell_type": "code",
   "execution_count": 1,
   "id": "7ac9026d-0f2c-4eb5-b172-2dd5ab28ecf3",
   "metadata": {},
   "outputs": [],
   "source": [
    "class OpenBankaccount:\n",
    "    def __init__(self, Account_Number, Account_HolderName, Amount = 0):\n",
    "        self.Account= Account_Number\n",
    "        self.Holder = Account_HolderName\n",
    "        self.Amount = Amount\n",
    "    def deposit (self, Amount):\n",
    "        if Amount > 0:\n",
    "            self.Amount += Amount\n",
    "            print(\"Your total balance is\", self.Amount)\n",
    "        else:\n",
    "            print(\"Enter a positive integer, you have entered incorrect input\")\n",
    "    def withdraw (self, withdraw):\n",
    "        if withdraw > 0  and withdraw <= self.Amount:\n",
    "            self.Amount -= withdraw\n",
    "            print(withdraw,\"Debited from your Account\")"
   ]
  },
  {
   "cell_type": "code",
   "execution_count": 2,
   "id": "652ff52b-37c2-431a-a697-e521a457cb7c",
   "metadata": {},
   "outputs": [],
   "source": [
    "rakesh = OpenBankaccount(Account_Number = 123,Account_HolderName = \"rakesh\")"
   ]
  },
  {
   "cell_type": "code",
   "execution_count": 3,
   "id": "e958d0db-4585-40c5-8b17-68a7103dd9f7",
   "metadata": {},
   "outputs": [
    {
     "name": "stdout",
     "output_type": "stream",
     "text": [
      "Your total balance is 500\n"
     ]
    }
   ],
   "source": [
    "rakesh.deposit(500)"
   ]
  },
  {
   "cell_type": "code",
   "execution_count": 4,
   "id": "4db5d604-2654-4d4e-b2e4-08fe69d24b6a",
   "metadata": {},
   "outputs": [
    {
     "name": "stdout",
     "output_type": "stream",
     "text": [
      "300 Debited from your Account\n"
     ]
    }
   ],
   "source": [
    "rakesh.withdraw(300)"
   ]
  },
  {
   "cell_type": "code",
   "execution_count": 5,
   "id": "4e826885-5066-43f4-bc10-0f767663fc20",
   "metadata": {},
   "outputs": [
    {
     "name": "stdout",
     "output_type": "stream",
     "text": [
      "Your total balance is 201\n"
     ]
    }
   ],
   "source": [
    "rakesh.deposit(1)"
   ]
  },
  {
   "cell_type": "markdown",
   "id": "a4eb9f3a-80ab-4efa-9281-544d783971a7",
   "metadata": {},
   "source": [
    "Problem 2: Employee Management Create a class representing an employee with attributes like employee ID, name, and salary. Implement methods to calculate the yearly bonus and display employee details."
   ]
  },
  {
   "cell_type": "code",
   "execution_count": 6,
   "id": "6d85a964-a9b5-4961-b826-c50ea648b9cd",
   "metadata": {},
   "outputs": [],
   "source": [
    "class employeeManagement:\n",
    "    def __init__(self,Employee_ID, Name, Salary):\n",
    "        self.Employee_ID = Employee_ID\n",
    "        self.Name = Name\n",
    "        self.Salary = Salary\n",
    "    def check_yearly_bonus(self, Salary):\n",
    "        if Salary <= 7000:\n",
    "            bonus = Salary * 8.33/100\n",
    "            print(\"Yearly bonus is \", bonus)\n",
    "        else:\n",
    "            Your_Bonus = 7000*8.33/100\n",
    "            print(\"Yearly bonus is \", Your_Bonus)\n",
    "    def employee_details (self):\n",
    "        print(self.Employee_ID, self.Name, self.Salary)"
   ]
  },
  {
   "cell_type": "code",
   "execution_count": 7,
   "id": "d664f2dd-025d-4e89-9a89-436ca6a9ab5a",
   "metadata": {},
   "outputs": [],
   "source": [
    "management= employeeManagement(123,\"methun\",5000)"
   ]
  },
  {
   "cell_type": "code",
   "execution_count": 8,
   "id": "5141817e-d3da-4a2a-b695-33964e8a921d",
   "metadata": {},
   "outputs": [
    {
     "name": "stdout",
     "output_type": "stream",
     "text": [
      "Yearly bonus is  583.1\n"
     ]
    }
   ],
   "source": [
    "management.check_yearly_bonus(40000)"
   ]
  },
  {
   "cell_type": "code",
   "execution_count": 9,
   "id": "1c4085a1-124d-4ca1-92a7-4b46292e3477",
   "metadata": {},
   "outputs": [],
   "source": [
    "rakesh = employeeManagement(123, \"Etikala\", 9000)\n",
    "Methun = employeeManagement(2354, \"narendar\",5666)"
   ]
  },
  {
   "cell_type": "code",
   "execution_count": 10,
   "id": "e3556148-2bcd-4cfc-8740-3d585349a133",
   "metadata": {},
   "outputs": [
    {
     "name": "stdout",
     "output_type": "stream",
     "text": [
      "Yearly bonus is  416.5\n"
     ]
    }
   ],
   "source": [
    "Methun.check_yearly_bonus(5000)"
   ]
  },
  {
   "cell_type": "markdown",
   "id": "4076386c-34f1-4a79-b565-4974a71ae003",
   "metadata": {},
   "source": [
    "Problem 3: Vehicle Rental Create a class representing a vehicle rental system. Implement methods to rent a vehicle, return a vehicle, and display available vehicles."
   ]
  },
  {
   "cell_type": "code",
   "execution_count": 11,
   "id": "6a24f9dc-cb8c-448f-bf87-6124ad37742c",
   "metadata": {},
   "outputs": [],
   "source": [
    "class VehicleRentalSystem:\n",
    "    def __init__(self):\n",
    "        self.available_vehicles_list = []\n",
    "        self.rented_vehicles_list = []\n",
    "\n",
    "    def rent_a_vehicle(self, vehicle_type):\n",
    "        if vehicle_type in self.available_vehicles_list:\n",
    "            self.available_vehicles_list.remove(vehicle_type)\n",
    "            self.rented_vehicles_list.append(vehicle_type)\n",
    "            print(\"The vehicle\", vehicle_type, \"rented successfully.\")\n",
    "        else:\n",
    "            print(\"Vehicle\", vehicle_type, \"is not available for rent.\")\n",
    "\n",
    "    def return_a_vehicle(self, vehicle_type):\n",
    "        if vehicle_type in self.rented_vehicles_list:\n",
    "            self.available_vehicles_list.append(vehicle_type)\n",
    "            self.rented_vehicles_list.remove(vehicle_type)\n",
    "            print(\"Vehicle\", vehicle_type, \"has been returned successfully.\")\n",
    "        else:\n",
    "            print(\"Cannot return\", vehicle_type, \"as it is not currently rented.\")\n",
    "\n",
    "    def display_available_vehicles(self):\n",
    "        print(\"Available Vehicles:\", self.available_vehicles_list)\n",
    "\n",
    "    def display_rented_vehicles(self):\n",
    "        print(\"Rented Vehicles:\", self.rented_vehicles_list)"
   ]
  },
  {
   "cell_type": "code",
   "execution_count": 12,
   "id": "38fb7271-1a57-4a4e-a058-4ee115866eec",
   "metadata": {},
   "outputs": [],
   "source": [
    "rental_system = VehicleRentalSystem()"
   ]
  },
  {
   "cell_type": "code",
   "execution_count": 13,
   "id": "b4559edb-d428-4f68-82bb-62546898bbb5",
   "metadata": {},
   "outputs": [],
   "source": [
    "rental_system.available_vehicles_list = [\"Car\", \"SUV\", \"Truck\"]"
   ]
  },
  {
   "cell_type": "code",
   "execution_count": 14,
   "id": "c655a7fc-f3a3-4f84-894c-2ab5f934295e",
   "metadata": {},
   "outputs": [
    {
     "name": "stdout",
     "output_type": "stream",
     "text": [
      "The vehicle Car rented successfully.\n"
     ]
    }
   ],
   "source": [
    "rental_system.rent_a_vehicle(\"Car\")"
   ]
  },
  {
   "cell_type": "code",
   "execution_count": 15,
   "id": "70f44847-7137-474d-bd58-d5acd4b3a61a",
   "metadata": {},
   "outputs": [
    {
     "name": "stdout",
     "output_type": "stream",
     "text": [
      "Available Vehicles: ['SUV', 'Truck']\n"
     ]
    }
   ],
   "source": [
    "rental_system.display_available_vehicles()"
   ]
  },
  {
   "cell_type": "code",
   "execution_count": 16,
   "id": "2c836c01-2db7-4287-a6ba-6a2cd8bfdf55",
   "metadata": {},
   "outputs": [
    {
     "name": "stdout",
     "output_type": "stream",
     "text": [
      "Rented Vehicles: ['Car']\n"
     ]
    }
   ],
   "source": [
    "rental_system.display_rented_vehicles()"
   ]
  },
  {
   "cell_type": "markdown",
   "id": "7aaef7c9-8a7f-4026-9d0b-cb3ae4c714a6",
   "metadata": {},
   "source": [
    "Problem 4: Library Catalog Create classes representing a library and a book. Implement methods to add books to the library, borrow books, and display available books."
   ]
  },
  {
   "cell_type": "code",
   "execution_count": 41,
   "id": "f36acd65-ce21-49a2-b12f-6d5205444305",
   "metadata": {},
   "outputs": [],
   "source": [
    "class Book:\n",
    "    def __init__(self, title, author, book_id):\n",
    "        self.title = title\n",
    "        self.author = author\n",
    "        self.book_id = book_id\n",
    "        self.available = True\n",
    "\n",
    "class Library:\n",
    "    def __init__(self):\n",
    "        self.books = []\n",
    "\n",
    "    def add_book(self, book):\n",
    "        if any(existing_book.title == book.title for existing_book in self.books):\n",
    "            print(\"Book with the same title already exists.\")\n",
    "        else:\n",
    "            self.books.append(book)\n",
    "            print(f\"Book '{book.title}' added successfully.\")\n",
    "\n",
    "    def borrow_book(self, book_title):\n",
    "        for book in self.books:\n",
    "            if book.title == book_title:\n",
    "                if book.available:\n",
    "                    book.available = False\n",
    "                    print(f\"Book '{book.title}' borrowed successfully.\")\n",
    "                else:\n",
    "                    print(f\"Book '{book.title}' is not available for borrowing.\")\n",
    "                return\n",
    "        print(f\"Book '{book_title}' is not in the library.\")\n",
    "\n",
    "    def display_available_books(self):\n",
    "        available_books = [book for book in self.books if book.available]\n",
    "        print(\"Available Books:\")\n",
    "        for book in available_books:\n",
    "            print(f\"Book ID: {book.book_id}, Title: {book.title}, Author: {book.author}\")"
   ]
  },
  {
   "cell_type": "code",
   "execution_count": 42,
   "id": "831eeb27-cc1e-448d-93cf-69c97f620eac",
   "metadata": {
    "tags": []
   },
   "outputs": [],
   "source": [
    "li = Library()  "
   ]
  },
  {
   "cell_type": "code",
   "execution_count": 48,
   "id": "bf91283e-b201-4d02-ba97-77d6690e92b7",
   "metadata": {},
   "outputs": [],
   "source": [
    "li.books= [\"dsa\",\"bd\",\"sql\"]"
   ]
  },
  {
   "cell_type": "code",
   "execution_count": 49,
   "id": "b017a10b-9dc6-4215-b3ca-564969b01458",
   "metadata": {},
   "outputs": [
    {
     "name": "stdout",
     "output_type": "stream",
     "text": [
      "Book 'dsa' is not in the library.\n"
     ]
    }
   ],
   "source": [
    "li.borrow_book(\"dsa\")"
   ]
  },
  {
   "cell_type": "markdown",
   "id": "76bdea70-494e-45f8-846a-fb4991484d88",
   "metadata": {},
   "source": [
    "Problem 5: Product Inventory Create classes representing a product and an inventory system. Implement methods to add products to the inventory, update product quantity, and display available products."
   ]
  },
  {
   "cell_type": "code",
   "execution_count": 11,
   "id": "ba98952c",
   "metadata": {},
   "outputs": [],
   "source": [
    "class Product:\n",
    "    def __init__(self, product_name, product_id, quantity):\n",
    "        self.product_name = product_name\n",
    "        self.product_id = product_id\n",
    "        self.quantity = quantity\n",
    "\n",
    "class InventorySystem:\n",
    "    def __init__(self):\n",
    "        self.product_list = []\n",
    "\n",
    "    def add_product(self, product_name, product_id):\n",
    "        if product_name and product_id:\n",
    "            product_entry = {\"product_name\": product_name, \"product_id\": product_id, \"quantity\": 0}\n",
    "            self.product_list.append(product_entry)\n",
    "            print(f\"{product_name} ({product_id}) added successfully into the list\")\n",
    "        else:\n",
    "            print(\"Incorrect entry. Check product name / product id\")\n",
    "\n",
    "    def update_product_quantity(self, product_id, new_quantity):\n",
    "        for product in self.product_list:\n",
    "            if product[\"product_id\"] == product_id:\n",
    "                product[\"quantity\"] = new_quantity\n",
    "                print(f\"Quantity updated for product with ID {product_id}. New quantity: {new_quantity}\")\n",
    "                return\n",
    "        print(f\"Product with ID {product_id} not found in the list.\")\n",
    "    def available_list (self, list):\n",
    "        print(\"List of products available\", self.product_list)\n"
   ]
  },
  {
   "cell_type": "code",
   "execution_count": 12,
   "id": "ab9dd204-8691-4b2a-a68e-ab6025f87f13",
   "metadata": {},
   "outputs": [],
   "source": [
    "l1 = InventorySystem()"
   ]
  },
  {
   "cell_type": "code",
   "execution_count": 16,
   "id": "85c98146-d5ac-4b85-bcb6-90ca975943fb",
   "metadata": {},
   "outputs": [
    {
     "name": "stdout",
     "output_type": "stream",
     "text": [
      "laptop (10) added successfully into the list\n"
     ]
    }
   ],
   "source": [
    "l1.add_product(\"laptop\",10)"
   ]
  },
  {
   "cell_type": "code",
   "execution_count": 20,
   "id": "a3d8bc81-66ec-4aa4-8e63-6f7dbc6c9b00",
   "metadata": {},
   "outputs": [
    {
     "name": "stdout",
     "output_type": "stream",
     "text": [
      "Quantity updated for product with ID 10. New quantity: 6\n"
     ]
    }
   ],
   "source": [
    "l1.update_product_quantity( 10, 6)"
   ]
  },
  {
   "cell_type": "code",
   "execution_count": 21,
   "id": "15f01390-c592-4fdb-8185-6875e13fd22f",
   "metadata": {},
   "outputs": [
    {
     "name": "stdout",
     "output_type": "stream",
     "text": [
      "List of products available [{'product_name': 'laptop', 'product_id': 10, 'quantity': 6}]\n"
     ]
    }
   ],
   "source": [
    "l1.available_list(1)"
   ]
  },
  {
   "cell_type": "markdown",
   "id": "b3e6ecd5-3c70-4a48-860d-f8ec80a4056f",
   "metadata": {},
   "source": [
    "Problem 6: Shape Calculation Create a class representing a shape with attributes like length, width, and height. Implement methods to calculate the area and perimeter of the shape."
   ]
  },
  {
   "cell_type": "code",
   "execution_count": 43,
   "id": "49edb4f4-dc0e-42fa-9250-0c40436b8910",
   "metadata": {},
   "outputs": [],
   "source": [
    "class square:\n",
    "    def area_of_square(self, length, width, height):\n",
    "        area = length * width * height\n",
    "        print(f\"Area of square is \", area)\n",
    "    def perimeter_of_square(self,length):\n",
    "        perimeter = 4*length\n",
    "        print(f\"Perimeter of a square is\", perimeter)\n",
    "class triangle:\n",
    "    def area_of_triangle(self, base , height):\n",
    "        area = 1/2 * base * height\n",
    "        print(f\"Area of triangle is\",area)\n",
    "    def perimeter_of_triangle (self, side_a, side_b, side_c):\n",
    "        perimeter_of_triangle = side_a * side_b * side_c\n",
    "        print(f\"Perimeter of a triangle is \", perimeter_of_triangle)"
   ]
  },
  {
   "cell_type": "code",
   "execution_count": 39,
   "id": "ff1598df-73dc-4c48-80e4-aadc5e48c3b1",
   "metadata": {},
   "outputs": [],
   "source": [
    "sq = square()"
   ]
  },
  {
   "cell_type": "code",
   "execution_count": 44,
   "id": "bc6b1bf9-e981-4886-b3a2-6eb98e18c1bb",
   "metadata": {},
   "outputs": [
    {
     "name": "stdout",
     "output_type": "stream",
     "text": [
      "Area of square is  1440\n"
     ]
    }
   ],
   "source": [
    "sq.area_of_square(10,12,12)"
   ]
  },
  {
   "cell_type": "code",
   "execution_count": 45,
   "id": "9e45fa93-b482-4f0d-b22f-2558bcc08751",
   "metadata": {},
   "outputs": [
    {
     "name": "stdout",
     "output_type": "stream",
     "text": [
      "Perimeter of a square is 48\n"
     ]
    }
   ],
   "source": [
    "sq.perimeter_of_square(12)"
   ]
  },
  {
   "cell_type": "code",
   "execution_count": 47,
   "id": "dc6e4fbb-b643-4477-9e0a-27e24ab72bb8",
   "metadata": {},
   "outputs": [],
   "source": [
    "tr = triangle()"
   ]
  },
  {
   "cell_type": "code",
   "execution_count": 48,
   "id": "2a520d21-d3fe-4bdb-95d1-18067a19ecbf",
   "metadata": {},
   "outputs": [
    {
     "name": "stdout",
     "output_type": "stream",
     "text": [
      "Area of triangle is 100.0\n"
     ]
    }
   ],
   "source": [
    "tr.area_of_triangle(10,20)"
   ]
  },
  {
   "cell_type": "code",
   "execution_count": 49,
   "id": "d1b962ad-cde5-4d78-be4d-b47307e4d829",
   "metadata": {},
   "outputs": [
    {
     "name": "stdout",
     "output_type": "stream",
     "text": [
      "Perimeter of a triangle is  6000\n"
     ]
    }
   ],
   "source": [
    "tr.perimeter_of_triangle(10,20,30)"
   ]
  },
  {
   "cell_type": "markdown",
   "id": "7d29ae1a-b38b-432d-b09d-64c3ece52692",
   "metadata": {},
   "source": [
    "Problem 7: Student Management Create a class representing a student with attributes like student ID, name, and grades. Implement methods to calculate the average grade and display student details."
   ]
  },
  {
   "cell_type": "code",
   "execution_count": 66,
   "id": "2cd3380b-5bb8-4734-8187-3593b1973b20",
   "metadata": {},
   "outputs": [],
   "source": [
    "class student:\n",
    "    def __init__(self, student_id, name, grades):\n",
    "        self.student_id = student_id\n",
    "        self.name = name\n",
    "        self.grades = grades\n",
    "    def average_grade (self):\n",
    "        return sum(self.grades)/len(self.grades)\n",
    "    def student_details (self):\n",
    "        print(\"Name of the student is \", self.name)\n",
    "        print(\"Student ID is \", self.student_id)\n",
    "        print(\"Average grade of a student is\", self.average_grade())\n",
    "    "
   ]
  },
  {
   "cell_type": "code",
   "execution_count": 67,
   "id": "30c40ddb-8272-4a7b-a587-b9324ff7c219",
   "metadata": {},
   "outputs": [],
   "source": [
    "rakesh = student(1232,\"Etikala\", [30,20,52,89])"
   ]
  },
  {
   "cell_type": "code",
   "execution_count": 68,
   "id": "0cb2bd02-3c18-4b07-a45a-886f00e2ac14",
   "metadata": {},
   "outputs": [
    {
     "data": {
      "text/plain": [
       "47.75"
      ]
     },
     "execution_count": 68,
     "metadata": {},
     "output_type": "execute_result"
    }
   ],
   "source": [
    "rakesh.average_grade()"
   ]
  },
  {
   "cell_type": "code",
   "execution_count": 69,
   "id": "41a8217f-9247-4e13-b007-cc79b77a1ceb",
   "metadata": {},
   "outputs": [
    {
     "name": "stdout",
     "output_type": "stream",
     "text": [
      "Name of the student is  Etikala\n",
      "Student ID is  1232\n",
      "Average grade of a student is 47.75\n"
     ]
    }
   ],
   "source": [
    "rakesh.student_details()"
   ]
  },
  {
   "cell_type": "markdown",
   "id": "4164082b-3f56-44c9-a332-e76f539fb73b",
   "metadata": {},
   "source": [
    "Problem 8: Email Management Create a class representing an email with attributes like sender, recipient, and subject. Implement methods to send an email and display email details.\n"
   ]
  },
  {
   "cell_type": "code",
   "execution_count": 71,
   "id": "92cd2a92-931e-4d8c-a571-98886b6c20d6",
   "metadata": {},
   "outputs": [],
   "source": [
    "class email:\n",
    "    def __init__(self, sender,recipient,subject):\n",
    "        self.sender = sender\n",
    "        self.recipient = recipient\n",
    "        self.subject = subject\n",
    "    def send_an_email(self):\n",
    "        print(f\"Email sent from\", self.sender ,\"to\", self.recipient ,\"with a subject\",self.subject)\n",
    "    def email_details(self):\n",
    "        print(\"Sender\",self.sender)\n",
    "        print(\"Recipient\", self.recipient)\n",
    "        print(\"Subject\", self.subject)"
   ]
  },
  {
   "cell_type": "code",
   "execution_count": 72,
   "id": "f1a28bb7-1598-4853-ae8e-7e20ef2f285f",
   "metadata": {},
   "outputs": [],
   "source": [
    "e = email(\"rakesh\",\"Etikala\", \"Hii\")"
   ]
  },
  {
   "cell_type": "code",
   "execution_count": 73,
   "id": "f2230f64-1bd6-47bc-979d-974666a60ac5",
   "metadata": {},
   "outputs": [
    {
     "name": "stdout",
     "output_type": "stream",
     "text": [
      "Email sent from rakesh to Etikala with a subject Hii\n"
     ]
    }
   ],
   "source": [
    "e.send_an_email()"
   ]
  },
  {
   "cell_type": "code",
   "execution_count": 74,
   "id": "e3ca5362-e59d-4bd5-8d1d-67591c84d069",
   "metadata": {},
   "outputs": [
    {
     "name": "stdout",
     "output_type": "stream",
     "text": [
      "Sender rakesh\n",
      "Recipient Etikala\n",
      "Subject Hii\n"
     ]
    }
   ],
   "source": [
    "e.email_details()"
   ]
  },
  {
   "cell_type": "markdown",
   "id": "99e9990e-2e76-4a09-b6d9-8a216b99b072",
   "metadata": {},
   "source": [
    "Problem 9: Social Media Profile Create a class representing a social media profile with attributes like username and posts. Implement methods to add posts, display posts, and search for posts by keyword."
   ]
  },
  {
   "cell_type": "code",
   "execution_count": 87,
   "id": "cf06e446-2fe0-4760-92c1-a2736cca8375",
   "metadata": {},
   "outputs": [],
   "source": [
    "class social_media_profile:\n",
    "    def __init__(self, username):\n",
    "        self.username = username\n",
    "        self.posts = []\n",
    "    def add_posts(self, content):\n",
    "        add = {\"content\":content, \"author\":self.username}\n",
    "        self.posts.append(add)\n",
    "        return \"Posted successfully\"\n",
    "    def display_posts (self):\n",
    "        print(self.posts)     \n",
    "    def search_posts(self, keyword):\n",
    "        matching_posts = [post for post in self.posts if keyword.lower() in post[\"content\"].lower()]\n",
    "        if not matching_posts:\n",
    "            print(f\"No posts containing '{keyword}')\n",
    "        else:\n",
    "            print(f\"Posts containing '{keyword}' in {self.username}'s profile:\")\n",
    "            for index, post in enumerate(matching_posts, start=1):\n",
    "                print(f\"Post {index}: {post['content']} (by {post['author']})\")\n"
   ]
  },
  {
   "cell_type": "code",
   "execution_count": 88,
   "id": "b5a135f9-f7d7-464d-b0b0-66ab99930523",
   "metadata": {},
   "outputs": [],
   "source": [
    "new = social_media_profile(\"rakesh\") "
   ]
  },
  {
   "cell_type": "code",
   "execution_count": 89,
   "id": "2f71e7fd-4cbf-4a26-997c-51fcbad0d22a",
   "metadata": {},
   "outputs": [
    {
     "data": {
      "text/plain": [
       "'Posted successfully'"
      ]
     },
     "execution_count": 89,
     "metadata": {},
     "output_type": "execute_result"
    }
   ],
   "source": [
    "new.add_posts(\"i am doing good\")"
   ]
  },
  {
   "cell_type": "code",
   "execution_count": 90,
   "id": "0f6b83cd-fcf7-463a-ac70-6168e9f0c602",
   "metadata": {},
   "outputs": [
    {
     "name": "stdout",
     "output_type": "stream",
     "text": [
      "[{'content': 'i am doing good', 'author': 'rakesh'}]\n"
     ]
    }
   ],
   "source": [
    "new.display_posts()"
   ]
  },
  {
   "cell_type": "markdown",
   "id": "565e5b78-b840-41ed-aa6a-c0b2522bcb3e",
   "metadata": {},
   "source": [
    "Problem 10: ToDo List Create a class representing a ToDo list with attributes like tasks and due dates. Implement methods to add tasks, mark tasks as completed, and display pending tasks."
   ]
  },
  {
   "cell_type": "code",
   "execution_count": 133,
   "id": "97427c7a-881a-4169-a77f-6024748e4e75",
   "metadata": {},
   "outputs": [],
   "source": [
    "class To_do_List:\n",
    "    def __init__(self):\n",
    "        self.tasks = []\n",
    "        self.duedates = []\n",
    "    def add_tasks(self, task, due_date):\n",
    "        self.tasks.append(task)\n",
    "        self.duedates.append(due_date)\n",
    "        return \"Task added successfully\"\n",
    "    def task_completed(self, task):\n",
    "        if task in self.tasks:\n",
    "            index = self.tasks.index(task)\n",
    "            self.tasks.pop(index)\n",
    "            self.due_dates.pop(index)\n",
    "            return \"Task removed successfully\"\n",
    "        else:\n",
    "            return \"Task not found in the list\"\n",
    "    def display_pending_tasks(self):\n",
    "        if not self.tasks:\n",
    "            return \"No pending tasks.\"\n",
    "        \n",
    "        print(\"Pending tasks:\")\n",
    "        for task, due_date in zip(self.tasks(), self.due_dates()):\n",
    "            print(f\"Task: {task} - Due Date: {due_date}\")\n",
    "            def pending_tasks(self):\n",
    "                return display_pending_tasks()"
   ]
  },
  {
   "cell_type": "code",
   "execution_count": 129,
   "id": "2aa72594-b9b1-4cf4-970b-2f424d1e5b7e",
   "metadata": {},
   "outputs": [],
   "source": [
    "l1 = To_do_List()"
   ]
  },
  {
   "cell_type": "code",
   "execution_count": 130,
   "id": "db43c5fa-3127-4feb-b047-96e7c2154587",
   "metadata": {},
   "outputs": [
    {
     "data": {
      "text/plain": [
       "'Task added successfully'"
      ]
     },
     "execution_count": 130,
     "metadata": {},
     "output_type": "execute_result"
    }
   ],
   "source": [
    "l1.add_tasks(\"complete project\", \"02-01-2021\")"
   ]
  },
  {
   "cell_type": "code",
   "execution_count": 134,
   "id": "976283a9-d2fa-427a-aa89-da86ac5f169e",
   "metadata": {},
   "outputs": [
    {
     "name": "stdout",
     "output_type": "stream",
     "text": [
      "Pending tasks:\n"
     ]
    },
    {
     "ename": "TypeError",
     "evalue": "'list' object is not callable",
     "output_type": "error",
     "traceback": [
      "\u001b[0;31m---------------------------------------------------------------------------\u001b[0m",
      "\u001b[0;31mTypeError\u001b[0m                                 Traceback (most recent call last)",
      "Cell \u001b[0;32mIn[134], line 1\u001b[0m\n\u001b[0;32m----> 1\u001b[0m \u001b[43ml1\u001b[49m\u001b[38;5;241;43m.\u001b[39;49m\u001b[43mdisplay_pending_tasks\u001b[49m\u001b[43m(\u001b[49m\u001b[43m)\u001b[49m\n",
      "Cell \u001b[0;32mIn[128], line 22\u001b[0m, in \u001b[0;36mTo_do_List.display_pending_tasks\u001b[0;34m(self)\u001b[0m\n\u001b[1;32m     19\u001b[0m     \u001b[38;5;28;01mreturn\u001b[39;00m \u001b[38;5;124m\"\u001b[39m\u001b[38;5;124mNo pending tasks.\u001b[39m\u001b[38;5;124m\"\u001b[39m\n\u001b[1;32m     21\u001b[0m \u001b[38;5;28mprint\u001b[39m(\u001b[38;5;124m\"\u001b[39m\u001b[38;5;124mPending tasks:\u001b[39m\u001b[38;5;124m\"\u001b[39m)\n\u001b[0;32m---> 22\u001b[0m \u001b[38;5;28;01mfor\u001b[39;00m task, due_date \u001b[38;5;129;01min\u001b[39;00m \u001b[38;5;28mzip\u001b[39m(\u001b[38;5;28;43mself\u001b[39;49m\u001b[38;5;241;43m.\u001b[39;49m\u001b[43mtasks\u001b[49m\u001b[43m(\u001b[49m\u001b[43m)\u001b[49m, \u001b[38;5;28mself\u001b[39m\u001b[38;5;241m.\u001b[39mdue_dates()):\n\u001b[1;32m     23\u001b[0m     \u001b[38;5;28mprint\u001b[39m(\u001b[38;5;124mf\u001b[39m\u001b[38;5;124m\"\u001b[39m\u001b[38;5;124mTask: \u001b[39m\u001b[38;5;132;01m{\u001b[39;00mtask\u001b[38;5;132;01m}\u001b[39;00m\u001b[38;5;124m - Due Date: \u001b[39m\u001b[38;5;132;01m{\u001b[39;00mdue_date\u001b[38;5;132;01m}\u001b[39;00m\u001b[38;5;124m\"\u001b[39m)\n",
      "\u001b[0;31mTypeError\u001b[0m: 'list' object is not callable"
     ]
    }
   ],
   "source": [
    "l1.display_pending_tasks()"
   ]
  },
  {
   "cell_type": "code",
   "execution_count": null,
   "id": "f13366c1-e040-40f4-a35b-a3b95f0cdda6",
   "metadata": {},
   "outputs": [],
   "source": []
  }
 ],
 "metadata": {
  "kernelspec": {
   "display_name": "Python 3 (ipykernel)",
   "language": "python",
   "name": "python3"
  },
  "language_info": {
   "codemirror_mode": {
    "name": "ipython",
    "version": 3
   },
   "file_extension": ".py",
   "mimetype": "text/x-python",
   "name": "python",
   "nbconvert_exporter": "python",
   "pygments_lexer": "ipython3",
   "version": "3.10.8"
  }
 },
 "nbformat": 4,
 "nbformat_minor": 5
}
